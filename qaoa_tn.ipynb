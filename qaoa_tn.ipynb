{
 "cells": [
  {
   "cell_type": "code",
   "execution_count": 1,
   "metadata": {},
   "outputs": [],
   "source": [
    "from functools import reduce\n",
    "import networkx as nx\n",
    "import numpy as np\n",
    "import tensornetwork as tn"
   ]
  },
  {
   "cell_type": "markdown",
   "metadata": {},
   "source": [
    "# Sketch of QAOA tensor network"
   ]
  },
  {
   "cell_type": "markdown",
   "metadata": {},
   "source": [
    "Here, we consider the case of a chain, for which the Tree Tensor Network becomes a Matrix Product State."
   ]
  },
  {
   "cell_type": "markdown",
   "metadata": {},
   "source": [
    "![Tensor network structure](./figures/qaoa_tn_chain.png)"
   ]
  },
  {
   "cell_type": "markdown",
   "metadata": {},
   "source": [
    "# Algorithms"
   ]
  },
  {
   "cell_type": "markdown",
   "metadata": {},
   "source": [
    "## Tree algorithms"
   ]
  },
  {
   "cell_type": "code",
   "execution_count": 2,
   "metadata": {},
   "outputs": [],
   "source": [
    "def regular_tree(degree, depth):\n",
    "    tree = nx.Graph()\n",
    "    def add_descendants(node):\n",
    "        if len(node) == depth:\n",
    "            return\n",
    "        for suffix in range(degree if node == tuple() else degree - 1):\n",
    "            new_node = node + (suffix,)\n",
    "            tree.add_node(new_node)\n",
    "            tree.add_edge(node, new_node)\n",
    "            add_descendants(new_node)\n",
    "    tree.add_node(tuple())\n",
    "    add_descendants(tuple())\n",
    "    return tree"
   ]
  },
  {
   "cell_type": "markdown",
   "metadata": {},
   "source": [
    "## Tensor contraction algorithms"
   ]
  },
  {
   "cell_type": "markdown",
   "metadata": {},
   "source": [
    "### `TensorStack` class."
   ]
  },
  {
   "cell_type": "markdown",
   "metadata": {},
   "source": [
    "This class exposes a stack of elementary tensors (where the tensors act on a few qubits and the stack grows in the depth direction) as a tensor with many indices which can then be efficiently contracted with other such tensors."
   ]
  },
  {
   "cell_type": "code",
   "execution_count": 3,
   "metadata": {},
   "outputs": [],
   "source": [
    "class TensorStack:\n",
    "    def __init__(self, tn_nodes, root_edges, branches_edges):\n",
    "        self.tn_nodes = tn_nodes\n",
    "        self.root_edges = root_edges\n",
    "        self.branches_edges = branches_edges\n",
    "        self.num_branches = len(branches_edges)\n",
    "    \n",
    "    @classmethod\n",
    "    def from_elementary_tensors(cls, num_branches, tensor_list):\n",
    "        vector_shape = (2,) * (1 + num_branches)\n",
    "        matrix_shape = vector_shape * 2\n",
    "        for tensor_idx, tensor in enumerate(tensor_list):\n",
    "            if tensor.shape != vector_shape and tensor.shape != matrix_shape:\n",
    "                raise ValueError(\"Invalid shape for tensor {}: {}, {} or {} expected\".format(tensor_idx, tensor.shape, vector_shape, matrix_shape))\n",
    "        root_edges = []\n",
    "        num_branches = num_branches\n",
    "        branches_edges = [[] for _ in range(num_branches)]\n",
    "        tn_nodes = []\n",
    "        for tensor in tensor_list:\n",
    "            tn_node = tn.Node(tensor)\n",
    "            tn_nodes.append(tn_node)\n",
    "            if tensor.shape == matrix_shape:\n",
    "                root_edges.append(tn_node.edges[num_branches + 1])\n",
    "                for branch in range(num_branches):\n",
    "                    branches_edges[branch].append(tn_node.edges[num_branches + 2 + branch])\n",
    "            root_edges.append(tn_node.edges[0])\n",
    "            for branch in range(num_branches):\n",
    "                branches_edges[branch].append(tn_node.edges[1 + branch])\n",
    "        return cls(tn_nodes, root_edges, branches_edges)\n",
    "\n",
    "    def contract_branches(self, branches_vectors):\n",
    "        if self.num_branches != len(branches_vectors):\n",
    "            raise ValueError(\"Unexpected number of branches vectors: {}, {} expected\".format(len(branches_vectors), self.num_branches))\n",
    "        for branch in range(self.num_branches):\n",
    "            branch_vector = branches_vectors[branch]\n",
    "            if len(branch_vector.branches_edges):\n",
    "                raise ValueError(\"Vector for branch {} has branches edges.\".format(branch))\n",
    "            if len(self.branches_edges[branch]) != len(branch_vector.root_edges):\n",
    "                raise ValueError(\"Invalid number of edges for branch {}: {}, {} expected\".format(branch, len(branch_vector.root_edges), len(self.branches_edges[branch])))\n",
    "        for branch in range(self.num_branches):\n",
    "            branch_vector = branches_vectors[branch]\n",
    "            for edge in range(len(self.branches_edges[branch])):\n",
    "                self.branches_edges[branch][edge] ^ branch_vector.root_edges[edge]\n",
    "        return tn.contractors.greedy(\n",
    "            sum([branch_vector.tn_nodes for branch_vector in branches_vectors], []) + self.tn_nodes,\n",
    "            output_edge_order=self.root_edges\n",
    "        )\n",
    "    \n",
    "    def contract_branches_and_root(self, branches_vectors, root_vector):\n",
    "        if len(self.root_edges) != len(root_vector.root_edges):\n",
    "            raise ValueError(\"Unexpected number of edges for root: {}, expected {}\".format(len(root_vector.root_edges), len(self.root_edges)))\n",
    "        branches_contracted = self.contract_branches(branches_vectors)\n",
    "        for edge in range(len(root_vector.root_edges)):\n",
    "            branches_contracted.edges[edge] ^ root_vector.root_edges[edge]\n",
    "        return tn.contractors.greedy([branches_contracted] + root_vector.tn_nodes)"
   ]
  },
  {
   "cell_type": "markdown",
   "metadata": {},
   "source": [
    "### Elementary matrices occurring in the definition of each tensor stack."
   ]
  },
  {
   "cell_type": "markdown",
   "metadata": {},
   "source": [
    "They involve the $U_B(\\beta)$, $U_C(\\gamma)$ matrices from the QAOA."
   ]
  },
  {
   "cell_type": "code",
   "execution_count": 4,
   "metadata": {},
   "outputs": [],
   "source": [
    "def ising_rotation_matrix(num_qubits, qubit1, qubit2, gamma):\n",
    "    tensor_factors = [np.eye(2)] * num_qubits\n",
    "    tensor_factors[qubit1] = np.cos(gamma / 2) * np.eye(2, dtype=complex)\n",
    "    matrix = reduce(np.kron, tensor_factors)\n",
    "    tensor_factors = [np.eye(2)] * num_qubits\n",
    "    tensor_factors[qubit1] = -1j * np.sin(gamma / 2) * np.diag([1, -1])\n",
    "    tensor_factors[qubit2] = np.diag([1, -1])\n",
    "    matrix += reduce(np.kron, tensor_factors)\n",
    "    return matrix\n",
    "\n",
    "def x_rotation_matrix(num_qubits, qubit, beta):\n",
    "    tensor_factors = [np.eye(2)] * num_qubits\n",
    "    tensor_factors[qubit] = np.cos(beta / 2) * np.eye(2) - 1j * np.sin(beta / 2) * np.array([[0, 1], [1, 0]])\n",
    "    matrix = reduce(np.kron, tensor_factors)\n",
    "    return matrix\n",
    "\n",
    "def qaoa_step_matrix(num_branches, beta, gamma, even):\n",
    "    matrix = reduce(\n",
    "        lambda x, y: x @ y,\n",
    "        [\n",
    "            ising_rotation_matrix(1 + num_branches, 0, branch_qubit, gamma)\n",
    "            for branch_qubit in range(1, num_branches + 1)\n",
    "        ]\n",
    "    )\n",
    "    if even:\n",
    "        matrix = reduce(\n",
    "            lambda x, y: x @ y,\n",
    "            [\n",
    "                x_rotation_matrix(1 + num_branches, qubit, beta)\n",
    "                for qubit in range(num_branches + 1)\n",
    "            ]\n",
    "        ) @ matrix\n",
    "    return matrix"
   ]
  },
  {
   "cell_type": "markdown",
   "metadata": {},
   "source": [
    "### Constructors for tensor stacks."
   ]
  },
  {
   "cell_type": "code",
   "execution_count": 5,
   "metadata": {},
   "outputs": [],
   "source": [
    "def qaoa_bulk_stack(num_branches, betas, gammas, even, observable=None):\n",
    "    if not len(betas) or len(betas) != len(gammas):\n",
    "        raise ValueError(\"Angles must be specified\")\n",
    "    tensor_list = []\n",
    "    vector_shape = (2,) * (1 + num_branches)\n",
    "    matrix_shape = vector_shape * 2\n",
    "    if even:\n",
    "        # Matrices up to middle.\n",
    "        for beta, gamma in zip(betas[0:-1], gammas[0:-1]):\n",
    "            tensor_list.append(qaoa_step_matrix(num_branches, beta, gamma, even).reshape(matrix_shape))\n",
    "        # Middle matrix.\n",
    "        if observable is None:\n",
    "            observable = np.eye(2 ** (1 + num_branches))\n",
    "        step_matrix = qaoa_step_matrix(num_branches, betas[-1], gammas[-1], True)\n",
    "        tensor_list.append((step_matrix.T.conj() @ observable @ step_matrix).reshape(matrix_shape))\n",
    "        # Middle to top matrices.\n",
    "        for beta, gamma in zip(betas[-2::-1], gammas[-2::-1]):\n",
    "            tensor_list.append(qaoa_step_matrix(num_branches, beta, gamma, even).T.conj().reshape(matrix_shape))\n",
    "    else:\n",
    "        # Bottom matrix.\n",
    "        tensor_list.append((qaoa_step_matrix(num_branches, betas[0], gammas[0], False) @ ((1 / np.sqrt(2)) ** (1 + num_branches) * np.ones(2 ** (1 + num_branches)))).reshape(vector_shape))\n",
    "        # Matrices up to middle.\n",
    "        for beta, gamma in zip(betas[1:], gammas[1:]):\n",
    "            tensor_list.append(qaoa_step_matrix(num_branches, beta, gamma, even).reshape(matrix_shape))\n",
    "        # Middle to top matrices.\n",
    "        for beta, gamma in zip(betas[-1:0:-1], gammas[-1:0:-1]):\n",
    "            tensor_list.append(qaoa_step_matrix(num_branches, beta, gamma, even).T.conj().reshape(matrix_shape))\n",
    "        # Top matrix.\n",
    "        tensor_list.append((((1 / np.sqrt(2)) ** (1 + num_branches) * np.ones(2 ** (1 + num_branches))) @ qaoa_step_matrix(num_branches, betas[0], gammas[0], False).T.conj()).reshape(vector_shape))\n",
    "    return TensorStack.from_elementary_tensors(num_branches, tensor_list)\n",
    "\n",
    "def qaoa_boundary_stack(betas, even, observable=None):\n",
    "    if not len(betas):\n",
    "        raise ValueError(\"Angles must be specified\")\n",
    "    tensor_list = []\n",
    "    if even:\n",
    "        if observable is None:\n",
    "            observable = np.eye(2)\n",
    "        # Matrices up to middle.\n",
    "        for beta in betas[:-1]:\n",
    "            tensor_list.append(x_rotation_matrix(1, 0, beta))\n",
    "        # Middle matrix.\n",
    "        matrix = x_rotation_matrix(1, 0, betas[-1])\n",
    "        tensor_list.append(matrix.T.conj() @ observable @ matrix)\n",
    "        # Matrices from middle to top.\n",
    "        for beta in betas[-2::-1]:\n",
    "            tensor_list.append(x_rotation_matrix(1, 0, beta).T.conj())\n",
    "    else:\n",
    "        tensor_list.append(1 / np.sqrt(2) * np.ones(2))\n",
    "        tensor_list.extend([np.eye(2) for _ in range(2 * len(betas) - 2)])\n",
    "        tensor_list.append(1 / np.sqrt(2) * np.ones(2))\n",
    "    return TensorStack.from_elementary_tensors(0, tensor_list)"
   ]
  },
  {
   "cell_type": "markdown",
   "metadata": {},
   "source": [
    "### Final QAOA evaluation algorithm"
   ]
  },
  {
   "cell_type": "code",
   "execution_count": 6,
   "metadata": {},
   "outputs": [],
   "source": [
    "def qaoa_evaluate(tree, root, betas, gammas, observables):\n",
    "    def qaoa_evaluate_helper(even, current_root, current_root_successors):\n",
    "        current_observable = reduce(np.kron, [observables.get(qubit, np.eye(2)) for qubit in [current_root] + current_root_successors]) if even else None\n",
    "        if len(current_root_successors):\n",
    "            tensor_stack = qaoa_bulk_stack(len(current_root_successors), betas, gammas, even, current_observable)\n",
    "            branches_vectors = [\n",
    "                qaoa_evaluate_helper(not even, current_root_successor, list(tree.successors(current_root_successor)))\n",
    "                for current_root_successor in current_root_successors\n",
    "            ]\n",
    "            branches_contracted = tensor_stack.contract_branches(branches_vectors)\n",
    "            return TensorStack([branches_contracted], branches_contracted.edges, [])\n",
    "        else:\n",
    "            return qaoa_boundary_stack(betas, even, current_observable)\n",
    "\n",
    "    root_successors = list(tree.successors(root))\n",
    "    vector1 = qaoa_evaluate_helper(False, root, root_successors[:len(root_successors) // 2])\n",
    "    vector2 = qaoa_evaluate_helper(True, root, root_successors[len(root_successors) // 2:])\n",
    "    return vector1.contract_branches_and_root([], vector2)"
   ]
  },
  {
   "cell_type": "markdown",
   "metadata": {},
   "source": [
    "# Tests"
   ]
  },
  {
   "cell_type": "markdown",
   "metadata": {},
   "source": [
    "## 3-regular graphs"
   ]
  },
  {
   "cell_type": "markdown",
   "metadata": {},
   "source": [
    "### $p = 1$"
   ]
  },
  {
   "cell_type": "code",
   "execution_count": 7,
   "metadata": {},
   "outputs": [
    {
     "data": {
      "text/plain": [
       "0.6924500897298674"
      ]
     },
     "execution_count": 7,
     "metadata": {},
     "output_type": "execute_result"
    }
   ],
   "source": [
    "tree = nx.dfs_tree(regular_tree(3, 7))\n",
    "evaluation = qaoa_evaluate(\n",
    "    tree=tree,\n",
    "    root=tuple(),\n",
    "    betas=[-np.pi / 4],\n",
    "    gammas=[np.arctan(1 / np.sqrt(2))],\n",
    "    observables={\n",
    "        tuple(): np.diag([1, -1]),\n",
    "        (0,): np.diag([1, -1])\n",
    "    }\n",
    ")\n",
    "0.5 * (1 - evaluation.tensor.real)"
   ]
  },
  {
   "cell_type": "markdown",
   "metadata": {},
   "source": [
    "### $p = 2$"
   ]
  },
  {
   "cell_type": "code",
   "execution_count": 8,
   "metadata": {},
   "outputs": [
    {
     "data": {
      "text/plain": [
       "0.7559064492764007"
      ]
     },
     "execution_count": 8,
     "metadata": {},
     "output_type": "execute_result"
    }
   ],
   "source": [
    "tree = nx.dfs_tree(regular_tree(3, 7))\n",
    "evaluation = qaoa_evaluate(\n",
    "    tree=tree,\n",
    "    root=tuple(),\n",
    "    betas=[2 * (2.12560098), 2 * (-0.2923307)],\n",
    "    gammas=[-0.4878635, 2.24375996],\n",
    "    observables={\n",
    "        tuple(): np.diag([1, -1]),\n",
    "        (0,): np.diag([1, -1])\n",
    "    }\n",
    ")\n",
    "0.5 * (1 - evaluation.tensor.real)"
   ]
  },
  {
   "cell_type": "markdown",
   "metadata": {},
   "source": [
    "### $p = 3$"
   ]
  },
  {
   "cell_type": "code",
   "execution_count": 9,
   "metadata": {},
   "outputs": [
    {
     "data": {
      "text/plain": [
       "0.7923984115833747"
      ]
     },
     "execution_count": 9,
     "metadata": {},
     "output_type": "execute_result"
    }
   ],
   "source": [
    "tree = nx.dfs_tree(regular_tree(3, 7))\n",
    "evaluation = qaoa_evaluate(\n",
    "    tree=tree,\n",
    "    root=tuple(),\n",
    "    betas=[2 * (0.9619), 2 * (2.6820), 2 * (1.8064)],\n",
    "    gammas=[2.7197, 5.4848, 2.2046],\n",
    "    observables={\n",
    "        tuple(): np.diag([1, -1]),\n",
    "        (0,): np.diag([1, -1])\n",
    "    }\n",
    ")\n",
    "0.5 * (1 - evaluation.tensor.real)"
   ]
  },
  {
   "cell_type": "markdown",
   "metadata": {},
   "source": [
    "### $p = 4$"
   ]
  },
  {
   "cell_type": "code",
   "execution_count": 10,
   "metadata": {},
   "outputs": [
    {
     "data": {
      "text/plain": [
       "0.8168765522352619"
      ]
     },
     "execution_count": 10,
     "metadata": {},
     "output_type": "execute_result"
    }
   ],
   "source": [
    "tree = nx.dfs_tree(regular_tree(3, 7))\n",
    "evaluation = qaoa_evaluate(\n",
    "    tree=tree,\n",
    "    root=tuple(),\n",
    "    betas=[2 * (5.6836), 2 * (1.1365), 2 * (5.9864), 2 * (4.8714)],\n",
    "    gammas=[0.4088, 0.7806, 0.9880, 4.2985],\n",
    "    observables={\n",
    "        tuple(): np.diag([1, -1]),\n",
    "        (0,): np.diag([1, -1])\n",
    "    }\n",
    ")\n",
    "0.5 * (1 - evaluation.tensor.real)"
   ]
  }
 ],
 "metadata": {
  "kernelspec": {
   "display_name": "Python 3",
   "language": "python",
   "name": "python3"
  },
  "language_info": {
   "codemirror_mode": {
    "name": "ipython",
    "version": 3
   },
   "file_extension": ".py",
   "mimetype": "text/x-python",
   "name": "python",
   "nbconvert_exporter": "python",
   "pygments_lexer": "ipython3",
   "version": "3.8.6"
  }
 },
 "nbformat": 4,
 "nbformat_minor": 2
}
